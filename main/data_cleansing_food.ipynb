{
 "cells": [
  {
   "cell_type": "code",
   "execution_count": 93,
   "metadata": {},
   "outputs": [
    {
     "name": "stdout",
     "output_type": "stream",
     "text": [
      "Number of rows in the original CSV file: 15063\n",
      "Number of rows after removing duplicates: 15063\n",
      "Number of rows removed: 0\n"
     ]
    }
   ],
   "source": [
    "import pandas as pd\n",
    "import ast  # To safely evaluate strings containing Python expressions from a string-based input\n",
    "\n",
    "# Read the main CSV file\n",
    "df = pd.read_csv('scraped_data_food_full.csv')\n",
    "# print(df)\n",
    "original_rows = len(df)\n",
    "# print(original_rows)\n",
    "print(\"Number of rows in the original CSV file: %d\" % len(df))\n",
    "\n",
    "# Remove duplicate rows with the same 'href', and adjust the index accordingly\n",
    "df.drop_duplicates(subset='href', inplace=True)\n",
    "# Reset the index\n",
    "df.reset_index(drop=True, inplace=True)\n",
    "\n",
    "print(\"Number of rows after removing duplicates: %d\" % len(df))\n",
    "\n",
    "print(\"Number of rows removed: %d\" % (original_rows - len(df)))"
   ]
  },
  {
   "cell_type": "code",
   "execution_count": 95,
   "metadata": {},
   "outputs": [],
   "source": [
    "# Write to a new CSV file\n",
    "df.to_csv('scraped_data_food_full_processed.csv', index=False)"
   ]
  },
  {
   "cell_type": "code",
   "execution_count": 97,
   "metadata": {},
   "outputs": [
    {
     "name": "stdout",
     "output_type": "stream",
     "text": [
      "Length of Original Category List: 14696\n",
      "Length of Filtered Category List: 241\n",
      "['açaí shop', 'bagel shop', 'butcher shop deli', 'cake shop', 'coffee shop', 'dessert shop', 'ice cream shop', 'juice shop', 'kebab shop', 'noodle shop', 'pasta shop', 'pastry shop', 'salad shop', 'sandwich shop', 'soba noodle shop', 'soft drinks shop', 'soup shop', 'steamed bun shop', 'tea and coffee shop']\n",
      "['chinese tea house', 'crab house', 'french steakhouse restaurant', 'japanese steakhouse', 'steak house', 'tea house']\n"
     ]
    },
    {
     "ename": "ValueError",
     "evalue": "list.remove(x): x not in list",
     "output_type": "error",
     "traceback": [
      "\u001b[1;31m---------------------------------------------------------------------------\u001b[0m",
      "\u001b[1;31mValueError\u001b[0m                                Traceback (most recent call last)",
      "Cell \u001b[1;32mIn[97], line 48\u001b[0m\n\u001b[0;32m     46\u001b[0m \u001b[38;5;28mprint\u001b[39m(category_with_word_shop)\n\u001b[0;32m     47\u001b[0m \u001b[38;5;28mprint\u001b[39m(category_with_word_house)\n\u001b[1;32m---> 48\u001b[0m \u001b[43mcategory_with_word_shop\u001b[49m\u001b[38;5;241;43m.\u001b[39;49m\u001b[43mremove\u001b[49m\u001b[43m(\u001b[49m\u001b[38;5;124;43m\"\u001b[39;49m\u001b[38;5;124;43mshop\u001b[39;49m\u001b[38;5;124;43m\"\u001b[39;49m\u001b[43m)\u001b[49m\n\u001b[0;32m     49\u001b[0m category_with_word_house\u001b[38;5;241m.\u001b[39mremove(\u001b[38;5;124m\"\u001b[39m\u001b[38;5;124mtownhouse complex\u001b[39m\u001b[38;5;124m\"\u001b[39m)\n\u001b[0;32m     50\u001b[0m category_with_word_house\u001b[38;5;241m.\u001b[39mremove(\u001b[38;5;124m\"\u001b[39m\u001b[38;5;124mwarehouse\u001b[39m\u001b[38;5;124m\"\u001b[39m)\n",
      "\u001b[1;31mValueError\u001b[0m: list.remove(x): x not in list"
     ]
    }
   ],
   "source": [
    "# Cleaning of dataset by categories\n",
    "\n",
    "# Read the reviews CSV file\n",
    "df = pd.read_csv('scraped_data_food_full_processed.csv')\n",
    "\n",
    "# Sort and obtain all the categories value in each cell\n",
    "original_category_list = []\n",
    "\n",
    "for i in range (0, len(df['Category'])):\n",
    "    original_category_list.append(df['Category'][i])\n",
    "\n",
    "original_category_list.sort()\n",
    "print(\"Length of Original Category List: \"+ str(len(original_category_list)))\n",
    "\n",
    "# Ensure that all the category in the dataset are only mentioned once\n",
    "\n",
    "filtered_category_list = list(set((original_category_list)))\n",
    "filtered_category_list.sort()\n",
    "print(\"Length of Filtered Category List: \"+ str(len(filtered_category_list)))\n",
    "\n",
    "# Copy filtered_category_list into not_dine_in_list\n",
    "\n",
    "not_dine_in_list = list(filtered_category_list)\n",
    "\n",
    "# Categories with these strings mentioned in the to_remove_keywords list will be removed from the not_dine_in_list\n",
    "\n",
    "to_remove_keywords = [\"restaurant\", \"cafe\", \"bar\", \"takeaway\", \"food court\", \"bakery\", \"pub\", \"beer\", \"patisserie\", \n",
    "                      \"creperie\", \"diner\", \"bistro\", \"live music venue\", \"hawker\", \"grill\", \"kiosk\", \"stand\", \"BBQ\",\"brewery\",\n",
    "                      \"delicatessen\", \"deli\"]\n",
    "\n",
    "\n",
    "# Search for all categories that has the string \"shop\", \"store\", and \"house\". Append the results into the respective list\n",
    "category_with_word_shop = []\n",
    "category_with_word_store = []\n",
    "category_with_word_house = []\n",
    "\n",
    "for item in not_dine_in_list[:]:\n",
    "    if \"shop\" in item.lower():\n",
    "        category_with_word_shop.append(item.lower())\n",
    "    elif \"store\" in item.lower():\n",
    "        category_with_word_store.append(item.lower())\n",
    "    elif \"house\" in item.lower():\n",
    "        category_with_word_house.append(item.lower())\n",
    "\n",
    "# Exclude the string shop, townhouse complex and warehouse string\n",
    "print(category_with_word_shop)\n",
    "print(category_with_word_house)\n",
    "category_with_word_shop.remove(\"shop\")\n",
    "category_with_word_house.remove(\"townhouse complex\")\n",
    "category_with_word_house.remove(\"warehouse\")\n",
    "\n",
    "# Join category_with_word_house list to the to_remove_keywords list\n",
    " \n",
    "to_remove_keywords.extend(category_with_word_house)\n",
    "print(to_remove_keywords)\n",
    "\n",
    "\n",
    "# Remove elements that are part of the excluded_category_with_word_shop list from category_with_word_shop list\n",
    " \n",
    "excluded_category_with_word_shop = [\"shopping mall\", \"gift shop\", \"butcher shop\", \"chicken shop\", \"rice shop\"]\n",
    "\n",
    "for element in category_with_word_shop[:]:\n",
    "    if any(exclude_word in element.lower() for exclude_word in excluded_category_with_word_shop):\n",
    "       category_with_word_shop.remove(element)\n",
    "\n",
    "# Join category_with_word_shop list to the to_remove_keywords list\n",
    "       \n",
    "to_remove_keywords.extend(category_with_word_shop)\n",
    "\n",
    "\n",
    "# Remove elements that are part of the excluded_category_with_word_store list from category_with_word_store list\n",
    "\n",
    "excluded_category_with_word_store = [\"convenience store\", \"fruit and vegetable store\", \"furniture store\", \"gourmet grocery store\", \"grocery store\", \"meat products store\" ]\n",
    "\n",
    "for element in category_with_word_store[:]:  \n",
    "    if any(exclude_word in element.lower() for exclude_word in excluded_category_with_word_store):\n",
    "       category_with_word_store.remove(element)\n",
    "\n",
    "# Join category_with_word_store list to the to_remove_keywords list\n",
    "\n",
    "to_remove_keywords.extend(category_with_word_store)\n",
    "\n",
    "# Remove those categories that matches the keywords in the to_remove_keywords list\n",
    "\n",
    "not_dine_in_list = [item for item in filtered_category_list if not any(keyword in item.lower() for keyword in to_remove_keywords)]\n",
    "\n",
    "\n",
    "# Length of the not_dine_in_list\n",
    "\n",
    "print(\"Length of Not Dine-In List: \" + str(len(not_dine_in_list)))\n",
    "\n",
    "\n",
    "# Remove all rows that matches the elements in the not_dine_in_list from the CSV file\n",
    "\n",
    "df = df[~df['Category'].isin(not_dine_in_list)]\n",
    "df.reset_index(drop=True, inplace=True)\n",
    "\n",
    "# Update the CSV File\n",
    "\n",
    "df.to_csv('scraped_data_food_full_processed.csv', index=False)\n",
    "\n",
    "df\n",
    "\n",
    "\n"
   ]
  },
  {
   "cell_type": "code",
   "execution_count": null,
   "metadata": {},
   "outputs": [],
   "source": []
  }
 ],
 "metadata": {
  "kernelspec": {
   "display_name": "Python 3",
   "language": "python",
   "name": "python3"
  },
  "language_info": {
   "codemirror_mode": {
    "name": "ipython",
    "version": 3
   },
   "file_extension": ".py",
   "mimetype": "text/x-python",
   "name": "python",
   "nbconvert_exporter": "python",
   "pygments_lexer": "ipython3",
   "version": "3.9.0"
  }
 },
 "nbformat": 4,
 "nbformat_minor": 2
}
