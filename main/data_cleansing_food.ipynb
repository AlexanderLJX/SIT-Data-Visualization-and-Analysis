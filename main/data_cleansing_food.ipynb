{
 "cells": [
  {
   "cell_type": "code",
   "execution_count": 7,
   "metadata": {},
   "outputs": [
    {
     "name": "stdout",
     "output_type": "stream",
     "text": [
      "Number of rows in the original CSV file: 14756\n",
      "Number of rows after removing duplicates: 8950\n",
      "Number of rows removed: 5806\n"
     ]
    }
   ],
   "source": [
    "import pandas as pd\n",
    "import ast  # To safely evaluate strings containing Python expressions from a string-based input\n",
    "\n",
    "# Read the main CSV file\n",
    "df = pd.read_csv('scraped_data_food.csv')\n",
    "# print(df)\n",
    "original_rows = len(df)\n",
    "# print(original_rows)\n",
    "print(\"Number of rows in the original CSV file: %d\" % len(df))\n",
    "\n",
    "# Remove duplicate rows with the same 'href', and adjust the index accordingly\n",
    "df.drop_duplicates(subset='href', inplace=True)\n",
    "# Reset the index\n",
    "df.reset_index(drop=True, inplace=True)\n",
    "\n",
    "print(\"Number of rows after removing duplicates: %d\" % len(df))\n",
    "\n",
    "print(\"Number of rows removed: %d\" % (original_rows - len(df)))"
   ]
  },
  {
   "cell_type": "code",
   "execution_count": 8,
   "metadata": {},
   "outputs": [],
   "source": [
    "# Write to a new CSV file\n",
    "df.to_csv('scraped_data_food_processed.csv', index=False)"
   ]
  },
  {
   "cell_type": "code",
   "execution_count": 107,
   "metadata": {},
   "outputs": [
    {
     "name": "stdout",
     "output_type": "stream",
     "text": [
      "Length of Original Category List: 8950\n",
      "Length of Filtered Category List: 304\n",
      "['Add hours', \"Add place's phone number\", 'Apartment building', 'Açaí shop', 'BBQ area', 'Bakery', 'Beer garden', 'Beverage distributor', 'Bistro', 'Brewery', 'Brewpub', 'Bubble tea store', 'Buddhist temple', 'Bus stop', 'Butcher shop', 'Butcher shop deli', 'Caterer', 'Catering food and drink supplier', 'Cell phone store', 'Chicken shop', 'Chinese bakery', 'Coffee shop', 'Coffee stand', 'Coffee store', 'Condominium complex', 'Consultant', 'Corporate campus', 'Corporate office', 'Country club', 'Crab house', 'Creperie', 'Delivery service', 'Dessert shop', 'Diner', 'E commerce agency', 'Educational institution', 'Excavating contractor', 'Festival', 'Fish store', 'Food', 'Food and beverage consultant', 'Food and beverage exporter', 'Food and drink', 'Food manufacturer', 'Food manufacturing supply', 'Food processing company', 'Food producer', 'Food products supplier', 'Frozen food manufacturer', 'Frozen yogurt shop', 'Gastropub', 'Gift shop', 'Glass industry', 'Gourmet grocery store', 'Grill', 'Grocery store', 'Hawker Stall', 'Hawker center', 'Health food store', 'Heritage preservation', 'Holding company', 'Hospital department', 'Hotel', 'Housing complex', 'Ice cream shop', 'Importer and Exporter', 'International school', 'Investment company', 'Island', 'Japanese delicatessen', 'Japanese grocery store', 'Japanese steakhouse', 'Kebab Shop', 'Kindergarten', 'Kiosk', 'Kitchen supply store', 'Laboratory', 'Live music venue', 'Local medical services', 'MRT/LRT Station', 'Manufacturer', 'Market', 'Meat products store', 'Media company', 'Mountain peak', 'Natural goods store', 'Nature preserve', 'Night club', 'Non-profit organization', 'Noodle shop', 'Office', 'Park', 'Pasta shop', 'Pastry shop', 'Patisserie', 'Petrol Station', 'Pizza delivery', 'Preschool', 'Produce market', 'Pub', 'Railway services', 'Real estate developer', 'Recreation center', 'Religious goods store', 'Rice shop', 'Salad shop', 'Sandwich shop', 'Scenic spot', 'School center', 'Seafood market', 'Seafood wholesaler', 'Shared-use commercial kitchen', 'Shipping service', 'Shop', 'Shopping mall', 'Slaughterhouse', 'Soba noodle shop', 'Soft drinks shop', 'Soup shop', 'Steak house', 'Steamed bun shop', 'Supermarket', 'Tea and coffee shop', 'Tea store', 'Tourist attraction', 'Train depot', 'Transportation service', 'Vending machine supplier', 'Warehouse', 'Wet market', 'Wholesale bakery', 'Wholesaler', 'Wine store']\n",
      "Length of Non Dine-In List: 133\n"
     ]
    }
   ],
   "source": [
    "# Read the reviews CSV file\n",
    "df = pd.read_csv('scraped_data_food_processed.csv')\n",
    "\n",
    "\n",
    "original_category_list = []\n",
    "\n",
    "for i in range (0, len(df['Category'])):\n",
    "    original_category_list.append(df['Category'][i])\n",
    "\n",
    "original_category_list.sort()\n",
    "# print(original_category_list)\n",
    "print(\"Length of Original Category List: \"+ str(len(original_category_list)))\n",
    "\n",
    "filtered_category_list = list(set((original_category_list)))\n",
    "filtered_category_list.sort()\n",
    "# print(filtered_category_list)\n",
    "print(\"Length of Filtered Category List: \"+ str(len(filtered_category_list)))\n",
    "\n",
    "\n",
    "not_dine_in_list = list(filtered_category_list)\n",
    "\n",
    "# # print(not_dine_in_list)\n",
    "\n",
    "# for item in not_dine_in_list[:]:  # Using a copy to avoid modifying the list during iteration\n",
    "#     # if \"store\" in item.lower():\n",
    "#     #     print(item)\n",
    "#     if \"shop\" in item.lower():\n",
    "#         if item.lower() != [\"shopping mall\":\n",
    "#             not_dine_in_list.remove(item)\n",
    "#         elif item.lower(\n",
    "            \n",
    "\n",
    "to_remove_keywords = [\"restaurant\", \"cafe\", \"bar\", \"takeaway\", \"food court\"]\n",
    "\n",
    "not_dine_in_list = [item for item in filtered_category_list if not any(keyword in item.lower() for keyword in to_remove_keywords)]\n",
    "\n",
    "print(not_dine_in_list)\n",
    "\n",
    "\n",
    "\n",
    "\n",
    "# print(not_dine_in_list)\n",
    "# # print(count)\n",
    "\n",
    "print(\"Length of Non Dine-In List: \" + str(len(not_dine_in_list)))\n",
    "\n"
   ]
  }
 ],
 "metadata": {
  "kernelspec": {
   "display_name": "Python 3",
   "language": "python",
   "name": "python3"
  },
  "language_info": {
   "codemirror_mode": {
    "name": "ipython",
    "version": 3
   },
   "file_extension": ".py",
   "mimetype": "text/x-python",
   "name": "python",
   "nbconvert_exporter": "python",
   "pygments_lexer": "ipython3",
   "version": "3.9.0"
  }
 },
 "nbformat": 4,
 "nbformat_minor": 2
}
